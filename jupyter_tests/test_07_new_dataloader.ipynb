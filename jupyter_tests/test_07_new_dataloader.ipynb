{
 "cells": [
  {
   "cell_type": "code",
   "execution_count": 53,
   "metadata": {},
   "outputs": [],
   "source": [
    "root = '/home/akira/下载/Pointnet2_PyTorch-master/PCT/Point-Transformers-master/data/modelnet40_normal_resampled'"
   ]
  },
  {
   "cell_type": "markdown",
   "metadata": {},
   "source": [
    "### New DataLoader\n",
    "- 根据路径找到路径下面所有的文件夹\n",
    "- 遍历每一个文件夹 找到train和test文件夹\n",
    "- 从每一个文件夹下面找到文件\n",
    "- 读取每一个文件内容，并返回"
   ]
  },
  {
   "cell_type": "code",
   "execution_count": 54,
   "metadata": {},
   "outputs": [
    {
     "name": "stdout",
     "output_type": "stream",
     "text": [
      "We have 40 classes\n",
      "The classes are:  ['night_stand', 'guitar', 'chair', 'vase', 'bathtub', 'toilet', 'xbox', 'car', 'keyboard', 'dresser', 'bench', 'wardrobe', 'cone', 'laptop', 'plant', 'sofa', 'bowl', 'curtain', 'flower_pot', 'cup', 'lamp', 'mantel', 'person', 'tv_stand', 'door', 'bed', 'stairs', 'radio', 'tent', 'monitor', 'desk', 'bookshelf', 'stool', 'piano', 'glass_box', 'table', 'bottle', 'range_hood', 'sink', 'airplane']\n"
     ]
    }
   ],
   "source": [
    "import os\n",
    "\n",
    "g = os.walk(root)\n",
    "labels = []\n",
    "for path, dir_list, file_list in g:\n",
    "    for dir_name in dir_list:\n",
    "        if dir_name == 'train' or dir_name == 'test':\n",
    "            continue\n",
    "        else:\n",
    "            # find all the classes files\n",
    "            # it is label\n",
    "            labels.append(dir_name)\n",
    "print('We have {} classes'.format(len(labels)))\n",
    "print('The classes are: ', labels)"
   ]
  },
  {
   "cell_type": "code",
   "execution_count": 57,
   "metadata": {
    "scrolled": true
   },
   "outputs": [
    {
     "name": "stdout",
     "output_type": "stream",
     "text": [
      "night_stand class has {} train samples 286\n",
      "guitar class has {} train samples 255\n",
      "chair class has {} train samples 989\n",
      "vase class has {} train samples 575\n",
      "bathtub class has {} train samples 156\n",
      "toilet class has {} train samples 444\n",
      "xbox class has {} train samples 123\n",
      "car class has {} train samples 297\n",
      "keyboard class has {} train samples 165\n",
      "dresser class has {} train samples 286\n",
      "bench class has {} train samples 193\n",
      "wardrobe class has {} train samples 107\n",
      "cone class has {} train samples 187\n",
      "laptop class has {} train samples 169\n",
      "plant class has {} train samples 340\n",
      "sofa class has {} train samples 780\n",
      "bowl class has {} train samples 84\n",
      "curtain class has {} train samples 158\n",
      "flower_pot class has {} train samples 169\n",
      "cup class has {} train samples 99\n",
      "lamp class has {} train samples 144\n",
      "mantel class has {} train samples 384\n",
      "person class has {} train samples 108\n",
      "tv_stand class has {} train samples 367\n",
      "door class has {} train samples 129\n",
      "bed class has {} train samples 615\n",
      "stairs class has {} train samples 144\n",
      "radio class has {} train samples 124\n",
      "tent class has {} train samples 183\n",
      "monitor class has {} train samples 565\n",
      "desk class has {} train samples 286\n",
      "bookshelf class has {} train samples 672\n",
      "stool class has {} train samples 110\n",
      "piano class has {} train samples 331\n",
      "glass_box class has {} train samples 271\n",
      "table class has {} train samples 492\n",
      "bottle class has {} train samples 435\n",
      "range_hood class has {} train samples 215\n",
      "sink class has {} train samples 148\n",
      "airplane class has {} train samples 726\n"
     ]
    }
   ],
   "source": [
    "# get train file via class name\n",
    "train_num = 0\n",
    "test_num = 0\n",
    "train_set = []\n",
    "test_set = []\n",
    "for c in labels:\n",
    "    new_train_root = os.path.join(root, c)\n",
    "    \n",
    "    train_sample_number = os.listdir(new_train_root)\n",
    "    train_num += len(train_sample_number)\n",
    "\n",
    "    print(c, 'class has {} train samples', len(train_sample_number))"
   ]
  },
  {
   "cell_type": "code",
   "execution_count": 26,
   "metadata": {},
   "outputs": [
    {
     "data": {
      "text/plain": [
       "9843"
      ]
     },
     "execution_count": 26,
     "metadata": {},
     "output_type": "execute_result"
    }
   ],
   "source": [
    "train_num"
   ]
  },
  {
   "cell_type": "code",
   "execution_count": 27,
   "metadata": {},
   "outputs": [
    {
     "data": {
      "text/plain": [
       "2468"
      ]
     },
     "execution_count": 27,
     "metadata": {},
     "output_type": "execute_result"
    }
   ],
   "source": [
    "test_num"
   ]
  },
  {
   "cell_type": "markdown",
   "metadata": {},
   "source": [
    "现在 我们需要\n",
    "- 一个len函数 \n",
    "- 和一个返回精确pointset 以及对应label的函数\n",
    "\n",
    "len函数 应该就是整个数据集合有多少个txt文件\n",
    "比较简单的做法就是返回file name的那个长度；\n",
    "\n",
    "精确查询这个如何做？\n",
    "需要给什么参数？\n",
    "\n",
    "现在有点明白了，就是我需要构建一个list，里面就是路径和cls组合的元组\n",
    "那么在上面遍历的时候就应该提前设置"
   ]
  },
  {
   "cell_type": "code",
   "execution_count": 32,
   "metadata": {},
   "outputs": [
    {
     "name": "stdout",
     "output_type": "stream",
     "text": [
      "train sample number is:  9843\n",
      "test sample number is:  2468\n"
     ]
    }
   ],
   "source": [
    "# get train_set and test_set\n",
    "train_set = []\n",
    "test_set = []\n",
    "\n",
    "for c in labels:\n",
    "    new_train_root = os.path.join(root, c, 'train')\n",
    "    new_test_root = os.path.join(root, c, 'test')\n",
    "\n",
    "    g_train = os.walk(new_train_root)\n",
    "    for _, _, f in g_train:\n",
    "        for file_name in f:\n",
    "            file_name = file_name[:-3] + 'txt'\n",
    "            path_and_label_tuple = (os.path.join(new_train_root, file_name), c)\n",
    "            train_set.append(path_and_label_tuple)\n",
    "            \n",
    "    g_test = os.walk(new_test_root)\n",
    "    for _, _, f in g_test:\n",
    "        for file_name in f:\n",
    "            file_name = file_name[:-3] + 'txt'\n",
    "            path_and_label_tuple = (os.path.join(new_test_root, file_name), c)\n",
    "            test_set.append(path_and_label_tuple)\n",
    "print('train sample number is: ', len(train_set))\n",
    "print('test sample number is: ', len(test_set))"
   ]
  },
  {
   "cell_type": "code",
   "execution_count": 33,
   "metadata": {},
   "outputs": [
    {
     "data": {
      "text/plain": [
       "('/home/akira/下载/Pointnet2_PyTorch-master/PCT/Point-Transformers-master/data/ModelNet40/night_stand/train/night_stand_0016.off/.txt',\n",
       " 'night_stand')"
      ]
     },
     "execution_count": 33,
     "metadata": {},
     "output_type": "execute_result"
    }
   ],
   "source": [
    "train_set[0]"
   ]
  },
  {
   "cell_type": "code",
   "execution_count": 31,
   "metadata": {},
   "outputs": [
    {
     "data": {
      "text/plain": [
       "('/home/akira/下载/Pointnet2_PyTorch-master/PCT/Point-Transformers-master/data/ModelNet40/night_stand/test/night_stand_0214.off',\n",
       " 'night_stand')"
      ]
     },
     "execution_count": 31,
     "metadata": {},
     "output_type": "execute_result"
    }
   ],
   "source": [
    "test_set[0]"
   ]
  },
  {
   "cell_type": "code",
   "execution_count": 40,
   "metadata": {},
   "outputs": [
    {
     "data": {
      "text/plain": [
       "20"
      ]
     },
     "execution_count": 40,
     "metadata": {},
     "output_type": "execute_result"
    }
   ],
   "source": [
    "s = 'night_stand_0016.off'\n",
    "len(s)"
   ]
  },
  {
   "cell_type": "code",
   "execution_count": 41,
   "metadata": {},
   "outputs": [
    {
     "data": {
      "text/plain": [
       "'night_stand_0016.'"
      ]
     },
     "execution_count": 41,
     "metadata": {},
     "output_type": "execute_result"
    }
   ],
   "source": [
    "s[:-3]"
   ]
  },
  {
   "cell_type": "code",
   "execution_count": 42,
   "metadata": {},
   "outputs": [
    {
     "data": {
      "text/plain": [
       "'night_stand_0016.txt'"
      ]
     },
     "execution_count": 42,
     "metadata": {},
     "output_type": "execute_result"
    }
   ],
   "source": [
    "s = s[:-3] + 'txt'\n",
    "s"
   ]
  },
  {
   "cell_type": "code",
   "execution_count": 52,
   "metadata": {},
   "outputs": [
    {
     "ename": "UnsupportedOperation",
     "evalue": "not readable",
     "output_type": "error",
     "traceback": [
      "\u001b[0;31m---------------------------------------------------------------------------\u001b[0m",
      "\u001b[0;31mUnsupportedOperation\u001b[0m                      Traceback (most recent call last)",
      "\u001b[0;32m<ipython-input-52-1ad65ba98fb6>\u001b[0m in \u001b[0;36m<module>\u001b[0;34m\u001b[0m\n\u001b[1;32m      2\u001b[0m \u001b[0mf\u001b[0m \u001b[0;34m=\u001b[0m \u001b[0mopen\u001b[0m\u001b[0;34m(\u001b[0m\u001b[0mr\u001b[0m\u001b[0;34m,\u001b[0m \u001b[0;34m'w'\u001b[0m\u001b[0;34m)\u001b[0m\u001b[0;34m\u001b[0m\u001b[0;34m\u001b[0m\u001b[0m\n\u001b[1;32m      3\u001b[0m \u001b[0mi\u001b[0m \u001b[0;34m=\u001b[0m \u001b[0;36m0\u001b[0m\u001b[0;34m\u001b[0m\u001b[0;34m\u001b[0m\u001b[0m\n\u001b[0;32m----> 4\u001b[0;31m \u001b[0;32mfor\u001b[0m \u001b[0mindex\u001b[0m \u001b[0;32min\u001b[0m \u001b[0mf\u001b[0m\u001b[0;34m.\u001b[0m\u001b[0mreadlines\u001b[0m\u001b[0;34m(\u001b[0m\u001b[0;34m)\u001b[0m\u001b[0;34m:\u001b[0m\u001b[0;34m\u001b[0m\u001b[0;34m\u001b[0m\u001b[0m\n\u001b[0m\u001b[1;32m      5\u001b[0m     \u001b[0mi\u001b[0m \u001b[0;34m+=\u001b[0m \u001b[0;36m1\u001b[0m\u001b[0;34m\u001b[0m\u001b[0;34m\u001b[0m\u001b[0m\n\u001b[1;32m      6\u001b[0m \u001b[0mi\u001b[0m\u001b[0;34m\u001b[0m\u001b[0;34m\u001b[0m\u001b[0m\n",
      "\u001b[0;31mUnsupportedOperation\u001b[0m: not readable"
     ]
    }
   ],
   "source": [
    "r = '/home/akira/桌面/airplane_0627.txt' \n",
    "f = open(r, 'w')\n",
    "i = 0\n",
    "for index in f.readlines():\n",
    "    i += 1\n",
    "i\n",
    "# import numpy as np\n",
    "\n",
    "# point_set = np.loadtxt(r, delimiter=' ').astype(np.float32)"
   ]
  },
  {
   "cell_type": "markdown",
   "metadata": {},
   "source": [
    "重新更换数据集 发现之前的只是少了 而不是有什么问题\n",
    "现在应该没问题。。。\n",
    "现在剩下的问题就是正确import了"
   ]
  },
  {
   "cell_type": "code",
   "execution_count": 58,
   "metadata": {},
   "outputs": [
    {
     "data": {
      "text/plain": [
       "['/home/akira/下载/Pointnet2_PyTorch-master/SimAttention/jupyter_tests',\n",
       " '/home/akira/anaconda3/envs/pytorch/lib/python37.zip',\n",
       " '/home/akira/anaconda3/envs/pytorch/lib/python3.7',\n",
       " '/home/akira/anaconda3/envs/pytorch/lib/python3.7/lib-dynload',\n",
       " '',\n",
       " '/home/akira/.local/lib/python3.7/site-packages',\n",
       " '/home/akira/anaconda3/envs/pytorch/lib/python3.7/site-packages',\n",
       " '/home/akira/下载/Pointnet2_PyTorch-master',\n",
       " '/home/akira/anaconda3/envs/pytorch/lib/python3.7/site-packages/IPython/extensions',\n",
       " '/home/akira/.ipython']"
      ]
     },
     "execution_count": 58,
     "metadata": {},
     "output_type": "execute_result"
    }
   ],
   "source": [
    "import sys\n",
    "sys.path"
   ]
  },
  {
   "cell_type": "code",
   "execution_count": null,
   "metadata": {},
   "outputs": [],
   "source": []
  }
 ],
 "metadata": {
  "kernelspec": {
   "display_name": "Python 3",
   "language": "python",
   "name": "python3"
  },
  "language_info": {
   "codemirror_mode": {
    "name": "ipython",
    "version": 3
   },
   "file_extension": ".py",
   "mimetype": "text/x-python",
   "name": "python",
   "nbconvert_exporter": "python",
   "pygments_lexer": "ipython3",
   "version": "3.7.9"
  }
 },
 "nbformat": 4,
 "nbformat_minor": 4
}
