{
 "cells": [
  {
   "cell_type": "code",
   "execution_count": 33,
   "metadata": {},
   "outputs": [
    {
     "name": "stdout",
     "output_type": "stream",
     "text": [
      "The size of train data is 9843\n"
     ]
    }
   ],
   "source": [
    "import os\n",
    "import time\n",
    "import torch\n",
    "import random\n",
    "import numpy as np\n",
    "import open3d as o3d\n",
    "from SimAttention.dataloader import ModelNetDataSet\n",
    "\n",
    "root = '/home/akira/下载/Pointnet2_PyTorch-master/byol_pcl/data/modelnet40_normal_resampled'\n",
    "data = ModelNetDataSet(root)\n",
    "DataLoader = torch.utils.data.DataLoader(data, batch_size=4, shuffle=True)\n",
    "\n",
    "demo = 0\n",
    "for data, cls in DataLoader:\n",
    "    demo = data\n",
    "    break\n",
    "numpy_demo = demo.numpy()"
   ]
  },
  {
   "cell_type": "code",
   "execution_count": 2,
   "metadata": {},
   "outputs": [],
   "source": [
    "def visualize_samples(d_sample):\n",
    "    print(\"Points in downsample set: \", len(d_sample))\n",
    "    source = o3d.geometry.PointCloud()\n",
    "    source.points = o3d.utility.Vector3dVector(d_sample)\n",
    "    color = [102.0 / 255.0 ,111.0 / 255.0, 142.0 / 255.0]\n",
    "    source.paint_uniform_color(color)\n",
    "    o3d.visualization.draw_geometries([source])"
   ]
  },
  {
   "cell_type": "code",
   "execution_count": 37,
   "metadata": {},
   "outputs": [
    {
     "name": "stdout",
     "output_type": "stream",
     "text": [
      "Points in downsample set:  10000\n"
     ]
    }
   ],
   "source": [
    "visualize_samples(numpy_demo[0])"
   ]
  },
  {
   "cell_type": "code",
   "execution_count": 4,
   "metadata": {},
   "outputs": [],
   "source": [
    "device = torch.device(\"cuda:0\" if torch.cuda.is_available() else \"cpu\")"
   ]
  },
  {
   "cell_type": "code",
   "execution_count": 38,
   "metadata": {},
   "outputs": [],
   "source": [
    "def index_points(points, idx):\n",
    "    raw_size = idx.size()\n",
    "    idx = idx.reshape(raw_size[0], -1)\n",
    "    res = torch.gather(points, 1, idx[..., None].expand(-1, -1, points.size(-1)))\n",
    "    return res.reshape(*raw_size, -1)\n",
    "\n",
    "def b_FPS(xyz, npoint):\n",
    "    device = xyz.device\n",
    "    B, N, C = xyz.shape\n",
    "    centroids = torch.zeros(B, npoint, dtype=torch.long).to(device)\n",
    "    distance = torch.ones(B, N).to(device) * 1e10\n",
    "    farthest = torch.randint(0, N, (B,), dtype=torch.long).to(device)\n",
    "    batch_indices = torch.arange(B, dtype=torch.long).to(device)\n",
    "    for i in range(npoint):\n",
    "        centroids[:, i] = farthest\n",
    "        centroid = xyz[batch_indices, farthest, :].view(B, 1, 3)\n",
    "        dist = torch.sum((xyz - centroid) ** 2, -1)\n",
    "        distance = torch.min(distance, dist)\n",
    "        farthest = torch.max(distance, -1)[1]\n",
    "    return centroids, index_points(xyz, centroids)\n",
    "\n",
    "def k_patch(x, k=2048, n_patch=8, n_points=1024):\n",
    "    # 首先是用fps算法选择出来8个中心点，下面是中心点的索引\n",
    "    patch_centers_index, _ = b_FPS(x, n_patch) # torch.Size([4, 8])\n",
    "    center_point_xyz = index_points(x, patch_centers_index)\n",
    "    print(\"patch_center_index shape: \", patch_centers_index.shape)\n",
    "    # knn部分\n",
    "    x = x.permute(0, 2, 1)\n",
    "    inner = -2*torch.matmul(x.transpose(2, 1), x)\n",
    "    xx = torch.sum(x**2, dim=1, keepdim=True)\n",
    "    pairwise_distance = -xx - inner - xx.transpose(2, 1)\n",
    "    print('pairwise_distance shape: ', pairwise_distance.shape) # torch.Size([4, 10000, 10000])\n",
    "    # (batch_size, num_points, k) ---> bs, n_patch, k \n",
    "    idx = pairwise_distance.topk(k=k, dim=-1)[1][:,patch_centers_index[1],:]\n",
    "    # idx = pairwise_distance.topk(k=k, dim=-1)[1]\n",
    "    print('idx shape: ', idx.shape) # torch.Size([4, 8, 2048])\n",
    "    idx = idx.permute(0, 2, 1)  # 4, 2048, 8\n",
    "    # new patch points\n",
    "    new_patch = torch.zeros([8, 4, 1024, 3]).to(device)\n",
    "    for i in range(n_patch):\n",
    "        patch_idx = idx[:,:,i].reshape(x.shape[0], -1)\n",
    "        _, patch_points = b_FPS(index_points(x.permute(0, 2, 1), patch_idx), n_points)\n",
    "        new_patch[i] = patch_points\n",
    "    new_patch = new_patch.permute(1, 0, 2, 3)\n",
    "#     print('new_patch shape: ', new_patch.shape)\n",
    "    return new_patch, center_point_xyz"
   ]
  },
  {
   "cell_type": "code",
   "execution_count": 39,
   "metadata": {
    "scrolled": true
   },
   "outputs": [
    {
     "name": "stdout",
     "output_type": "stream",
     "text": [
      "patch_center_index shape:  torch.Size([4, 8])\n",
      "pairwise_distance shape:  torch.Size([4, 10000, 10000])\n",
      "idx shape:  torch.Size([4, 8, 2048])\n"
     ]
    }
   ],
   "source": [
    "k_result, center_xyz = k_patch(demo)\n"
   ]
  },
  {
   "cell_type": "code",
   "execution_count": 40,
   "metadata": {
    "collapsed": true
   },
   "outputs": [
    {
     "data": {
      "text/plain": [
       "tensor([[[ 0.3680, -0.1663, -0.1538],\n",
       "         [-0.3768,  0.7097,  0.5074],\n",
       "         [-0.4264, -0.6518,  0.3977],\n",
       "         [-0.4033, -0.6554, -0.6309],\n",
       "         [-0.4492,  0.1731, -0.2961],\n",
       "         [ 0.3751,  0.4394,  0.3850],\n",
       "         [ 0.4082, -0.6544,  0.4020],\n",
       "         [ 0.4021, -0.6556, -0.6317]],\n",
       "\n",
       "        [[ 0.4742, -0.0249, -0.7958],\n",
       "         [-0.5871,  0.2916,  0.5723],\n",
       "         [ 0.5709, -0.2041,  0.5687],\n",
       "         [-0.5891, -0.0745, -0.4885],\n",
       "         [ 0.1046,  0.0790, -0.0578],\n",
       "         [-0.1146, -0.2038,  0.5770],\n",
       "         [-0.5383, -0.1435,  0.1235],\n",
       "         [ 0.2405,  0.2969,  0.5616]],\n",
       "\n",
       "        [[ 0.3434, -0.1399, -0.4659],\n",
       "         [-0.1261,  0.0971,  0.7936],\n",
       "         [-0.7648, -0.0226, -0.2156],\n",
       "         [ 0.3415, -0.1806,  0.2926],\n",
       "         [-0.2652,  0.1325, -0.6299],\n",
       "         [-0.1348,  0.0221, -0.0358],\n",
       "         [ 0.3412, -0.1034,  0.7938],\n",
       "         [ 0.3413,  0.1368, -0.0697]],\n",
       "\n",
       "        [[ 0.4400,  0.0247, -0.2977],\n",
       "         [-0.6516, -0.6462,  0.3972],\n",
       "         [-0.6519,  0.6433,  0.1065],\n",
       "         [ 0.6379, -0.6539,  0.3970],\n",
       "         [ 0.6436,  0.6414,  0.3954],\n",
       "         [-0.5349, -0.1601, -0.4047],\n",
       "         [-0.0889,  0.0377,  0.3999],\n",
       "         [-0.0031,  0.6436, -0.2878]]])"
      ]
     },
     "execution_count": 40,
     "metadata": {},
     "output_type": "execute_result"
    }
   ],
   "source": [
    "center_xyz"
   ]
  },
  {
   "cell_type": "code",
   "execution_count": 57,
   "metadata": {},
   "outputs": [
    {
     "name": "stdout",
     "output_type": "stream",
     "text": [
      "Points in downsample set:  8\n"
     ]
    }
   ],
   "source": [
    "center = center_xyz[0].cpu().numpy()\n",
    "visualize_samples(center)"
   ]
  },
  {
   "cell_type": "code",
   "execution_count": 56,
   "metadata": {},
   "outputs": [
    {
     "name": "stdout",
     "output_type": "stream",
     "text": [
      "Points in downsample set:  1024\n"
     ]
    }
   ],
   "source": [
    "k = k_result[0][7]\n",
    "k = k.cpu().numpy()\n",
    "visualize_samples(k)"
   ]
  },
  {
   "cell_type": "code",
   "execution_count": 13,
   "metadata": {},
   "outputs": [
    {
     "data": {
      "text/plain": [
       "(1024, 3)"
      ]
     },
     "execution_count": 13,
     "metadata": {},
     "output_type": "execute_result"
    }
   ],
   "source": [
    "k.shape"
   ]
  },
  {
   "cell_type": "code",
   "execution_count": 14,
   "metadata": {},
   "outputs": [
    {
     "data": {
      "text/plain": [
       "array([[ 0.5984228 , -0.00322462, -0.3226279 ],\n",
       "       [-0.6857589 ,  0.11277416, -0.07336222],\n",
       "       [-0.05282892, -0.1530572 ,  0.24673198],\n",
       "       ...,\n",
       "       [ 0.5984228 , -0.00322462, -0.3226279 ],\n",
       "       [ 0.5984228 , -0.00322462, -0.3226279 ],\n",
       "       [ 0.5984228 , -0.00322462, -0.3226279 ]], dtype=float32)"
      ]
     },
     "execution_count": 14,
     "metadata": {},
     "output_type": "execute_result"
    }
   ],
   "source": [
    "k"
   ]
  },
  {
   "cell_type": "code",
   "execution_count": null,
   "metadata": {},
   "outputs": [],
   "source": []
  }
 ],
 "metadata": {
  "kernelspec": {
   "display_name": "Python 3",
   "language": "python",
   "name": "python3"
  },
  "language_info": {
   "codemirror_mode": {
    "name": "ipython",
    "version": 3
   },
   "file_extension": ".py",
   "mimetype": "text/x-python",
   "name": "python",
   "nbconvert_exporter": "python",
   "pygments_lexer": "ipython3",
   "version": "3.7.9"
  }
 },
 "nbformat": 4,
 "nbformat_minor": 4
}
