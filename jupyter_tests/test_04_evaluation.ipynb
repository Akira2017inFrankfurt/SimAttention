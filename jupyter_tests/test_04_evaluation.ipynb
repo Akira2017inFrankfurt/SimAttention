{
 "cells": [
  {
   "cell_type": "code",
   "execution_count": 70,
   "metadata": {},
   "outputs": [],
   "source": [
    "import torch\n",
    "import torch.nn as nn\n",
    "\n",
    "class ShapeClassifier(nn.Module):\n",
    "    def __init__(self, sub_function, net):\n",
    "        super().__init__()\n",
    "        self.sub_function = sub_function\n",
    "        self.encoder = net\n",
    "        self.relu = nn.ReLU()\n",
    "        self.linear1 = nn.Linear(1024, 512, bias=False)\n",
    "        self.bn1 = nn.BatchNorm1d(512)\n",
    "        self.dp1 = nn.Dropout(p=0.5)\n",
    "        self.linear2 = nn.Linear(512, 256)\n",
    "        self.bn2 = nn.BatchNorm1d(256)\n",
    "        self.dp2 = nn.Dropout(p=0.5)\n",
    "        self.linear3 = nn.Linear(256, 40)\n",
    "    \n",
    "    def forward(self, x):\n",
    "        x = x.numpy()\n",
    "        sub = torch.Tensor(self.sub_function(x, 1024))\n",
    "        print('sub shape: ', sub.shape)\n",
    "        with torch.no_grad():\n",
    "            for p in self.encoder.parameters():\n",
    "                p.requires_grad = False\n",
    "            x = self.encoder(sub)\n",
    "        x = x.reshape(x.shape[0], -1)  # bs, 1024\n",
    "        x = self.relu(self.bn1(self.linear1(x)))\n",
    "        x = self.dp1(x)\n",
    "        x = self.relu(self.bn2(self.linear2(x)))\n",
    "        x = self.dp2(x)\n",
    "        x = self.linear3(x)\n",
    "        return x"
   ]
  },
  {
   "cell_type": "markdown",
   "metadata": {},
   "source": [
    "随机输入，检查数据流"
   ]
  },
  {
   "cell_type": "code",
   "execution_count": 71,
   "metadata": {},
   "outputs": [
    {
     "name": "stdout",
     "output_type": "stream",
     "text": [
      "The size of train data is 9843\n"
     ]
    }
   ],
   "source": [
    "from SimAttention.network.encoder import PCT_Encoder\n",
    "from SimAttention.network.augmentation import Batch_PointWOLF\n",
    "from SimAttention.utils.crops import *\n",
    "from SimAttention.utils.provider import *\n",
    "from SimAttention.dataloader import ModelNetDataSet\n",
    "from torch.utils.data import DataLoader\n",
    "\n",
    "device = torch.device(\"cuda:0\" if torch.cuda.is_available() else \"cpu\")\n",
    "root = '/home/akira/下载/Pointnet2_PyTorch-master/byol_pcl/data/modelnet40_normal_resampled'\n",
    "dataset = ModelNetDataSet(root)\n",
    "trainDataLoader = torch.utils.data.DataLoader(dataset, batch_size=4, shuffle=True)"
   ]
  },
  {
   "cell_type": "code",
   "execution_count": 72,
   "metadata": {
    "scrolled": true
   },
   "outputs": [
    {
     "name": "stdout",
     "output_type": "stream",
     "text": [
      "sub shape:  torch.Size([4, 1024, 3])\n",
      "torch.Size([4, 40])\n"
     ]
    }
   ],
   "source": [
    "online_encoder = PCT_Encoder()\n",
    "eval_net = ShapeClassifier(net=online_encoder, sub_function=b_fps)\n",
    "rand_input = torch.ones((4, 10000, 3))\n",
    "rand_output = eval_net(rand_input)\n",
    "print(rand_output.shape)"
   ]
  },
  {
   "cell_type": "code",
   "execution_count": null,
   "metadata": {},
   "outputs": [],
   "source": [
    "# 也需要在optimizer中增加filter，表示不更新参数\n",
    "\n",
    "# optimizer = torch.optim.Adam(filter(lambda p:p.requires_grad, model.parameters()), lr=0.01,\n",
    "                                   # betas=(0.9, 0.999), eps=1e-8, weight_decay=1e-5)"
   ]
  },
  {
   "cell_type": "code",
   "execution_count": null,
   "metadata": {},
   "outputs": [],
   "source": [
    "# 保存训练好的模型\n",
    "\n",
    "# 那么现在有一个问题了，就是我这个分类器的后面几层用什么数据来训练\n",
    "# 首先可以肯定的是，真正测试的时候这些都是固定的，不能继续训练了，所以用的应该还是训练数据来训练后面这些层\n",
    "# 流程： trainLoader - 训练net模型 - 读取最佳net模型 - 继续使用trainLoader训练分类模型 - 用testLoader检测\n",
    "# 需要训练多epoch，然后记录loss表现最好的一个epoch的网络参数，这个也是个问题，应该怎么才算是最好？"
   ]
  },
  {
   "cell_type": "code",
   "execution_count": null,
   "metadata": {},
   "outputs": [],
   "source": [
    "# 假设现在已经训练好了一个encoder，并保存了\n",
    "# 下面这个就是训练验证模型的过程了\n",
    "net = torch.load('net.pkl')\n",
    "classifier = ShapeClassifier(net)\n",
    "criterion = torch.nn.CrossEntropyLoss()\n",
    "\n",
    "optimizer = torch.optim.Adam(filter(lambda p:p.requires_grad, classifier.parameters()), lr=0.01,\n",
    "                                   betas=(0.9, 0.999), eps=1e-8, weight_decay=1e-5)\n",
    "scheduler = torch.optim.lr_scheduler.StepLR(optimizer, step_size=50, gamma=0.3)\n",
    "\n",
    "for epoch in range(0, max_epoch):\n",
    "    classifier.train()\n",
    "    \n",
    "    for data in trainDataloader:\n",
    "        points, target = data\n",
    "        points = points.data.numpy()\n",
    "        points = provider.random_point_dropout(points)\n",
    "        points[:,:, 0:3] = provider.random_scale_point_cloud(points[:,:, 0:3])\n",
    "        points[:,:, 0:3] = provider.shift_point_cloud(points[:,:, 0:3])\n",
    "        points = torch.Tensor(points)\n",
    "        target = target[:, 0]\n",
    "        \n",
    "        points, target = points.cuda(), target.cuda()\n",
    "        optimizer.zero_grad()\n",
    "\n",
    "        pred = classifier(points)\n",
    "        loss = criterion(pred, target.long())\n",
    "        pred_choice = pred.data.max(1)[1]\n",
    "        correct = pred_choice.eq(target.long().data).cpu().sum()\n",
    "        mean_correct.append(correct.item() / float(points.size()[0]))\n",
    "        loss.backward()\n",
    "        optimizer.step()\n",
    "    scheduler.step()"
   ]
  },
  {
   "cell_type": "code",
   "execution_count": null,
   "metadata": {},
   "outputs": [],
   "source": [
    "# 就是遍历test数据，然后检查正确性\n",
    "def test(testDataloader, pred_func):\n",
    "    acc_number = 0.0\n",
    "    total_num = len(testDataloader)\n",
    "    for data in testDataloader:\n",
    "        points, target = data\n",
    "        target = target[:, 0]\n",
    "        pred = pred_func(points)\n",
    "        for i in range(data.shape[0]):\n",
    "            if pred[i] == target[i]:\n",
    "                acc_number += 1.0\n",
    "    acc_ratio = acc_number / total_num\n",
    "    print('Instance Accuracy: ', acc_ratio)"
   ]
  }
 ],
 "metadata": {
  "kernelspec": {
   "display_name": "Python 3",
   "language": "python",
   "name": "python3"
  },
  "language_info": {
   "codemirror_mode": {
    "name": "ipython",
    "version": 3
   },
   "file_extension": ".py",
   "mimetype": "text/x-python",
   "name": "python",
   "nbconvert_exporter": "python",
   "pygments_lexer": "ipython3",
   "version": "3.7.9"
  }
 },
 "nbformat": 4,
 "nbformat_minor": 4
}
