{
 "cells": [
  {
   "cell_type": "code",
   "execution_count": 6,
   "metadata": {},
   "outputs": [],
   "source": [
    "from SimAttention.network.augmentation import PointWOLF\n",
    "\n",
    "aug = PointWOLF(0.4)"
   ]
  },
  {
   "cell_type": "markdown",
   "metadata": {},
   "source": [
    "### 改变\n",
    "给这个函数增加一个新的参数，0-1\n",
    "约小反正是越离谱的，就是训练的时候，我们两个aug的参数不一样就好了。"
   ]
  },
  {
   "cell_type": "code",
   "execution_count": 7,
   "metadata": {},
   "outputs": [],
   "source": [
    "import open3d as o3d\n",
    "\n",
    "def visualize_samples(d_sample):\n",
    "    print(\"Points in downsample set: \", len(d_sample))\n",
    "    # d_sample = d_sample.numpy()\n",
    "    source = o3d.geometry.PointCloud()\n",
    "    source.points = o3d.utility.Vector3dVector(d_sample)\n",
    "    color = [102.0 / 255.0 ,111.0 / 255.0, 142.0 / 255.0]\n",
    "    source.paint_uniform_color(color)\n",
    "    o3d.visualization.draw_geometries([source])"
   ]
  },
  {
   "cell_type": "code",
   "execution_count": 8,
   "metadata": {},
   "outputs": [
    {
     "data": {
      "text/plain": [
       "(10000, 3)"
      ]
     },
     "execution_count": 8,
     "metadata": {},
     "output_type": "execute_result"
    }
   ],
   "source": [
    "import numpy as np\n",
    "file_path = r'/home/akira/下载/Pointnet2_PyTorch-master/PCT/Point-Transformers-master/data/modelnet40_normal_resampled/person/person_0002.txt'\n",
    "point_set = np.loadtxt(file_path, delimiter=',').astype(np.float32)[:, 0:3]\n",
    "point_set.shape"
   ]
  },
  {
   "cell_type": "code",
   "execution_count": 9,
   "metadata": {},
   "outputs": [],
   "source": [
    "# visualize_samples(point_set)"
   ]
  },
  {
   "cell_type": "code",
   "execution_count": 10,
   "metadata": {},
   "outputs": [
    {
     "name": "stdout",
     "output_type": "stream",
     "text": [
      "(10000, 3)\n",
      "Points in downsample set:  10000\n"
     ]
    }
   ],
   "source": [
    "rori, aug_point_set = aug(point_set)\n",
    "print(aug_point_set.shape)\n",
    "visualize_samples(aug_point_set)"
   ]
  },
  {
   "cell_type": "code",
   "execution_count": null,
   "metadata": {},
   "outputs": [],
   "source": []
  },
  {
   "cell_type": "code",
   "execution_count": null,
   "metadata": {},
   "outputs": [],
   "source": []
  }
 ],
 "metadata": {
  "kernelspec": {
   "display_name": "Python 3",
   "language": "python",
   "name": "python3"
  },
  "language_info": {
   "codemirror_mode": {
    "name": "ipython",
    "version": 3
   },
   "file_extension": ".py",
   "mimetype": "text/x-python",
   "name": "python",
   "nbconvert_exporter": "python",
   "pygments_lexer": "ipython3",
   "version": "3.7.9"
  }
 },
 "nbformat": 4,
 "nbformat_minor": 4
}
