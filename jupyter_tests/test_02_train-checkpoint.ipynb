{
 "cells": [
  {
   "cell_type": "code",
   "execution_count": 1,
   "metadata": {},
   "outputs": [],
   "source": [
    "import torch\n",
    "import torch.nn as nn\n",
    "\n",
    "device = torch.device(\"cuda:0\" if torch.cuda.is_available() else \"cpu\")"
   ]
  },
  {
   "cell_type": "code",
   "execution_count": 2,
   "metadata": {},
   "outputs": [
    {
     "data": {
      "text/plain": [
       "device(type='cuda', index=0)"
      ]
     },
     "execution_count": 2,
     "metadata": {},
     "output_type": "execute_result"
    }
   ],
   "source": [
    "device"
   ]
  },
  {
   "cell_type": "code",
   "execution_count": 3,
   "metadata": {},
   "outputs": [],
   "source": [
    "from SimAttention.model import SimAttention_3\n",
    "from SimAttention.network.encoder import PCT_Encoder\n",
    "from SimAttention.network.augmentation import Batch_PointWOLF\n",
    "from SimAttention.utils.crops import *\n",
    "from SimAttention.utils.provider import *\n",
    "from SimAttention.dataloader import ModelNetDataSet\n",
    "from torch.utils.data import DataLoader"
   ]
  },
  {
   "cell_type": "code",
   "execution_count": 4,
   "metadata": {},
   "outputs": [
    {
     "name": "stdout",
     "output_type": "stream",
     "text": [
      "9843 point clouds found.\n"
     ]
    }
   ],
   "source": [
    "root = '/home/akira/下载/Pointnet2_PyTorch-master/byol_pcl/data/modelnet40_normal_resampled'\n",
    "dataset = ModelNetDataSet(root)\n",
    "trainDataLoader = torch.utils.data.DataLoader(dataset, batch_size=4, shuffle=True)"
   ]
  },
  {
   "cell_type": "code",
   "execution_count": 5,
   "metadata": {},
   "outputs": [],
   "source": [
    "train_epoch = 10"
   ]
  },
  {
   "cell_type": "code",
   "execution_count": 6,
   "metadata": {},
   "outputs": [],
   "source": [
    "aug_method = Batch_PointWOLF()"
   ]
  },
  {
   "cell_type": "code",
   "execution_count": 7,
   "metadata": {},
   "outputs": [],
   "source": [
    "logger = logging.getLogger(__name__)"
   ]
  },
  {
   "cell_type": "code",
   "execution_count": 8,
   "metadata": {},
   "outputs": [],
   "source": [
    "online_encoder = PCT_Encoder()\n",
    "attention_feature_method = get_attention_feature"
   ]
  },
  {
   "cell_type": "code",
   "execution_count": 9,
   "metadata": {},
   "outputs": [],
   "source": [
    "model = SimAttention_3(aug_method, b_fps, b_get_slice, b_get_cube, b_get_sphere, \n",
    "                       online_encoder, attention_feature_method)"
   ]
  },
  {
   "cell_type": "code",
   "execution_count": 11,
   "metadata": {},
   "outputs": [],
   "source": [
    "optimizer = torch.optim.SGD(model.parameters(), lr=0.01, momentum=0.9)\n",
    "scheduler = torch.optim.lr_scheduler.StepLR(optimizer, step_size=50, gamma=0.3)"
   ]
  },
  {
   "cell_type": "code",
   "execution_count": 14,
   "metadata": {},
   "outputs": [
    {
     "name": "stdout",
     "output_type": "stream",
     "text": [
      "Start training...\n",
      "Epoch 0 is running.\n",
      "loss is:  tensor([-2.3842e-07,  2.3842e-07,  3.4571e-06,  7.1526e-07],\n",
      "       grad_fn=<AddBackward0>)\n",
      "loss is:  tensor([ 7.1526e-07,  2.9802e-06,  3.5763e-07, -9.5367e-07],\n",
      "       grad_fn=<AddBackward0>)\n",
      "loss is:  tensor([3.7789e-05, 1.4305e-06, 3.0994e-06, 8.3447e-07],\n",
      "       grad_fn=<AddBackward0>)\n",
      "loss is:  tensor([-4.7684e-07,  1.6689e-06,  1.5497e-06,  2.5034e-06],\n",
      "       grad_fn=<AddBackward0>)\n",
      "loss is:  tensor([1.0729e-06, 1.1325e-05, 1.0729e-06, 7.1526e-07],\n",
      "       grad_fn=<AddBackward0>)\n",
      "loss is:  tensor([ 5.2452e-06,  2.9802e-06, -4.7684e-07, -1.3113e-06],\n",
      "       grad_fn=<AddBackward0>)\n",
      "loss is:  tensor([-9.5367e-07,  2.3842e-07,  7.2718e-06,  2.2650e-06],\n",
      "       grad_fn=<AddBackward0>)\n",
      "loss is:  tensor([-2.3842e-07, -2.3842e-07,  1.3828e-05,  2.3842e-07],\n",
      "       grad_fn=<AddBackward0>)\n",
      "loss is:  tensor([-4.7684e-07,  2.0266e-06,  2.7418e-06, -3.5763e-07],\n",
      "       grad_fn=<AddBackward0>)\n",
      "loss is:  tensor([-1.1921e-07,  1.1921e-07, -2.3842e-07, -4.7684e-07],\n",
      "       grad_fn=<AddBackward0>)\n",
      "loss is:  tensor([ 1.2040e-05,  2.8610e-06,  1.2636e-05, -1.0729e-06],\n",
      "       grad_fn=<AddBackward0>)\n"
     ]
    }
